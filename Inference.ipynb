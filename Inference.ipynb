{
 "cells": [
  {
   "cell_type": "code",
   "execution_count": 1,
   "metadata": {},
   "outputs": [],
   "source": [
    "import os\n",
    "# os.environ['CUDA_LAUNCH_BLOCKING'] = \"1\"\n",
    "# os.environ['TORCHDYNAMO_VERBOSE'] = \"1\"\n",
    "\n",
    "import torch\n",
    "import torch.nn as nn\n",
    "import torch.nn.functional as F\n",
    "import torch.optim as optim\n",
    "from torch.utils.data import DataLoader, Dataset\n",
    "from torchvision.models.detection import fasterrcnn_mobilenet_v3_large_fpn, FasterRCNN_MobileNet_V3_Large_FPN_Weights, fasterrcnn_resnet50_fpn_v2, FasterRCNN_ResNet50_FPN_Weights\n",
    "from torchvision.models import MobileNet_V3_Large_Weights, ResNet50_Weights\n",
    "from torchvision.models.detection.rpn import concat_box_prediction_layers\n",
    "from torchvision.models.detection.roi_heads import fastrcnn_loss\n",
    "from torchvision import ops as tv_ops\n",
    "\n",
    "import numpy as np\n",
    "import random\n",
    "import math\n",
    "from pathlib import Path\n",
    "from fastai.vision import *\n",
    "import lightning as L\n",
    "from lightning.pytorch.loggers import TensorBoardLogger\n",
    "from lightning.pytorch.callbacks import RichProgressBar, ModelCheckpoint, EarlyStopping, LearningRateMonitor, RichModelSummary\n",
    "import cv2\n",
    "from pycocotools import coco, cocoeval, _mask\n",
    "from pycocotools import mask as maskUtils\n",
    "from PIL import  Image\n",
    "from matplotlib import pyplot as plt\n",
    "import logging\n",
    "import sys\n",
    "import albumentations as A\n",
    "from albumentations.pytorch.transforms import ToTensorV2\n",
    "\n",
    "logging.basicConfig(stream=sys.stdout, level=logging.DEBUG)\n",
    "logger = logging.getLogger(\"trainer\")\n",
    "torch.set_float32_matmul_precision('medium')\n",
    "torch.backends.cudnn.benchmark = True\n",
    "# logger.setLevel(logging.DEBUG)"
   ]
  },
  {
   "cell_type": "code",
   "execution_count": 2,
   "metadata": {},
   "outputs": [],
   "source": [
    "import os\n",
    "# os.environ['CUDA_LAUNCH_BLOCKING'] = \"1\"\n",
    "# os.environ['TORCHDYNAMO_VERBOSE'] = \"1\"\n",
    "\n",
    "import torch\n",
    "import torch.nn as nn\n",
    "import torch.nn.functional as F\n",
    "import torch.optim as optim\n",
    "from torch.utils.data import DataLoader, Dataset\n",
    "from torchvision.models.detection import fasterrcnn_mobilenet_v3_large_fpn, FasterRCNN_MobileNet_V3_Large_FPN_Weights, fasterrcnn_resnet50_fpn_v2, FasterRCNN_ResNet50_FPN_Weights\n",
    "from torchvision.models import MobileNet_V3_Large_Weights, ResNet50_Weights\n",
    "from torchvision.models.detection.rpn import concat_box_prediction_layers\n",
    "from torchvision.models.detection.roi_heads import fastrcnn_loss\n",
    "\n",
    "from transformers import TrOCRProcessor, VisionEncoderDecoderModel, VisionEncoderDecoderConfig, TrOCRConfig\n",
    "from PIL import Image\n",
    "\n",
    "import numpy as np\n",
    "import random\n",
    "import math\n",
    "from pathlib import Path\n",
    "from fastai.vision import *\n",
    "import lightning as L\n",
    "from lightning.pytorch.loggers import TensorBoardLogger\n",
    "from lightning.pytorch.callbacks import RichProgressBar, ModelCheckpoint, EarlyStopping, LearningRateMonitor, RichModelSummary\n",
    "import cv2\n",
    "from pycocotools import coco, cocoeval, _mask\n",
    "from pycocotools import mask as maskUtils\n",
    "from PIL import  Image\n",
    "from matplotlib import pyplot as plt\n",
    "import logging\n",
    "import sys\n",
    "import albumentations as A\n",
    "from albumentations.pytorch.transforms import ToTensorV2\n",
    "from torchmetrics.text import CharErrorRate\n",
    "from fastprogress.fastprogress import master_bar, progress_bar\n",
    "import copy\n",
    "\n",
    "import json\n",
    "\n",
    "from typing import List, Optional, Union, Tuple, Dict, Any\n",
    "\n",
    "logging.basicConfig(stream=sys.stdout, level=logging.DEBUG)\n",
    "logger = logging.getLogger(\"trainer\")\n",
    "torch.set_float32_matmul_precision('medium')\n",
    "torch.backends.cudnn.benchmark = True\n",
    "# torch.autograd.set_detect_anomaly(True)\n",
    "# logger.setLevel(logging.DEBUG)"
   ]
  },
  {
   "cell_type": "code",
   "execution_count": 3,
   "metadata": {},
   "outputs": [],
   "source": [
    "class NoOdometerFoundException(Exception):\n",
    "    message = \"No odometer found in the image\"\n",
    "\n",
    "class OdometerOCRException(Exception):\n",
    "    message = \"Error in OCR\""
   ]
  },
  {
   "cell_type": "code",
   "execution_count": 4,
   "metadata": {},
   "outputs": [],
   "source": [
    "class FasterRCNNModel(object):\n",
    "    def __init__(self, weights, num_classes, device, transform=None):\n",
    "        self.weights = weights\n",
    "        self.num_classes = num_classes\n",
    "        self.device = device\n",
    "\n",
    "        self.model = None\n",
    "        # self.model = self.build_model()\n",
    "        # self.model.eval().to(self.device)\n",
    "\n",
    "        self.transform = transform\n",
    "\n",
    "    def load_model(self, weights=None):\n",
    "        \n",
    "        logger.debug(\"Loading FasterRCNNModel\")\n",
    "        if weights is None:\n",
    "            if self.weights is None:\n",
    "                raise Exception(\"Weights not provided\")\n",
    "            else:\n",
    "                weights = self.weights\n",
    "        \n",
    "        if isinstance(weights, str) or isinstance(weights, Path):\n",
    "            state_dict = torch.load(weights)\n",
    "        else:\n",
    "            state_dict = weights\n",
    "\n",
    "        logger.debug(\"Loading FasterRCNNModel weights\")\n",
    "        model = fasterrcnn_resnet50_fpn_v2(weights=None, num_classes=self.num_classes)\n",
    "        model.load_state_dict(state_dict)\n",
    "        logger.debug(\"Successfully loaded FasterRCNNModel weights\")\n",
    "\n",
    "        logger.debug(\"Loading Model to device {}\".format(self.device))\n",
    "        self.model = model\n",
    "        self.model.eval().to(self.device)\n",
    "        logger.debug(\"Successfully loaded FasterRCNNModel\")\n",
    "\n",
    "\n",
    "        return model\n",
    "    \n",
    "    def predict(self, image, class_num=2, iou_threshold=0.5, score_threshold=0.5) -> Tuple[np.ndarray, np.ndarray, np.ndarray]:\n",
    "        \n",
    "        if self.model is None:\n",
    "            raise Exception(\"Model not loaded\")\n",
    "\n",
    "        with torch.no_grad():\n",
    "            image = self.transform(image=image)['image']\n",
    "            # image = image.unsqueeze(0)\n",
    "            image = torch.from_numpy(image)\n",
    "            image = image.permute(2, 0, 1).to(self.device)/255.\n",
    "            image = image.unsqueeze(0)\n",
    "\n",
    "            with torch.no_grad():\n",
    "                pred = self.model(image)\n",
    "            pred = pred[0]\n",
    "\n",
    "            nms_indexes = tv_ops.batched_nms(pred[\"boxes\"], pred[\"scores\"], pred[\"labels\"], iou_threshold=iou_threshold)\n",
    "\n",
    "            bboxes = torch.index_select(input=pred[\"boxes\"], index=nms_indexes, dim=0)\n",
    "            labels = torch.index_select(input=pred[\"labels\"], index=nms_indexes, dim=0)\n",
    "            scores = torch.index_select(input=pred[\"scores\"], index=nms_indexes, dim=0)\n",
    "\n",
    "            bboxes = torch.index_select(bboxes, index=torch.where(labels == class_num)[0], dim=0)\n",
    "            labels = torch.index_select(labels, index=torch.where(labels == class_num)[0], dim=0)\n",
    "            scores = torch.index_select(scores, index=torch.where(labels == class_num)[0], dim=0)\n",
    "\n",
    "            bboxes = torch.index_select(bboxes, index=torch.where(scores > 0.5)[0], dim=0)\n",
    "            labels = torch.index_select(labels, index=torch.where(scores > 0.5)[0], dim=0)\n",
    "            scores = torch.index_select(scores, index=torch.where(scores > 0.5)[0], dim=0)\n",
    "\n",
    "            pred_boxes = bboxes.cpu().numpy()\n",
    "            pred_scores = scores.cpu().numpy()\n",
    "            pred_labels = labels.cpu().numpy()\n",
    "            \n",
    "            \n",
    "        return pred_boxes, pred_scores, pred_labels\n",
    "        \n",
    "\n",
    "class TrOCRModel(object):\n",
    "    def __init__(self, weights=None, device=None, hf_model_name=None):\n",
    "        self.weights = weights\n",
    "        self.device = device\n",
    "        self.hf_model_name = hf_model_name\n",
    "\n",
    "        if self.hf_model_name is None:\n",
    "            raise Exception(\"hf_model_name not provided\")\n",
    "\n",
    "        self.model: VisionEncoderDecoderModel = None\n",
    "        self.processor: TrOCRProcessor = None\n",
    "\n",
    "        # self.model = self.build_model()\n",
    "        # self.model.eval().to(self.device)\n",
    "\n",
    "    def load_model(self, weights=None):\n",
    "\n",
    "        logger.debug(\"Loading TrOCRModel and transferring to device {}\".format(self.device))\n",
    "        \n",
    "        model = VisionEncoderDecoderModel.from_pretrained(self.hf_model_name).to(self.device)\n",
    "        model.bfloat16()\n",
    "        processor = TrOCRProcessor.from_pretrained(self.hf_model_name)\n",
    "        logger.debug(\"Model Weights type: {}\".format(model.dtype))\n",
    "\n",
    "        model = torch.compile(model)\n",
    "        # model.half()\n",
    "        model.eval()\n",
    "\n",
    "        logger.debug(\"Successfully loaded TrOCRModel\")\n",
    "\n",
    "        # logger.debug(\"Loading TrOCRModel weights\")\n",
    "        # model.load_state_dict(state_dict)\n",
    "        \n",
    "\n",
    "        self.model = model\n",
    "        self.processor = processor\n",
    "\n",
    "        logger.debug(\"TrOCRModel loaded\")\n",
    "\n",
    "        return model, processor\n",
    "    \n",
    "    def postprocess_text(self, text: str):\n",
    "        text = ''.join(filter(str.isdigit, text))\n",
    "        return text\n",
    "    \n",
    "    def predict(self, image) -> str:\n",
    "            \n",
    "        if self.model is None:\n",
    "            raise Exception(\"Model not loaded\")\n",
    "        \n",
    "        if self.processor is None:\n",
    "            raise Exception(\"Processor not loaded\")\n",
    "\n",
    "        with torch.no_grad():\n",
    "            pixel_values = self.processor(image, return_tensors=\"pt\").pixel_values\n",
    "            pixel_values = pixel_values.to(self.device)\n",
    "            # pixel_values.half()\n",
    "            # pixel_values = pixel_values.unsqueeze(0)\n",
    "\n",
    "            # logger.debug(f\"{pixel_values.shape}\")\n",
    "\n",
    "            generated_ids = self.model.generate(pixel_values, max_new_tokens=100)\n",
    "            generated_text = self.processor.batch_decode(generated_ids, skip_special_tokens=True)[0]\n",
    "            # logger.debug(f\"Generated text: {generated_text}\")\n",
    "            generated_text = self.postprocess_text(generated_text)\n",
    "\n",
    "        \n",
    "        return generated_text\n",
    "\n",
    "            \n",
    "    \n"
   ]
  },
  {
   "cell_type": "code",
   "execution_count": 5,
   "metadata": {},
   "outputs": [],
   "source": [
    "class Inference(object):\n",
    "    def __init__(self, device):\n",
    "        self.device = device\n",
    "        \n",
    "        self.detection_model: FasterRCNNModel = None\n",
    "        self.ocr_model: TrOCRModel = None\n",
    "\n",
    "    def load_detection_model(self, weights, num_classes, transform=None):\n",
    "        self.detection_model = FasterRCNNModel(weights, num_classes, self.device, transform)\n",
    "        self.detection_model.load_model()\n",
    "\n",
    "    def load_ocr_model(self, hf_model_name=None):\n",
    "        self.ocr_model = TrOCRModel(device=self.device, hf_model_name=hf_model_name)\n",
    "        self.ocr_model.load_model()\n",
    "\n",
    "    def expand_bbox(self, bbox, scale=1.0):\n",
    "        x1, y1, x2, y2 = bbox\n",
    "        x1 = x1 - (x2 - x1) * (scale - 1) / 2\n",
    "        x2 = x2 + (x2 - x1) * (scale - 1) / 2\n",
    "        y1 = y1 - (y2 - y1) * (scale - 1) / 2\n",
    "        y2 = y2 + (y2 - y1) * (scale - 1) / 2\n",
    "\n",
    "        return x1, y1, x2, y2\n",
    "\n",
    "    def predict(self, image: Image, class_num=2, iou_threshold=0.5, score_threshold=0.5):\n",
    "\n",
    "        image_array = np.array(image)\n",
    "\n",
    "        pred_boxes, pred_scores, pred_labels = self.detection_model.predict(image_array, class_num, iou_threshold, score_threshold)\n",
    "        \n",
    "        if len(pred_boxes) == 0:\n",
    "            raise NoOdometerFoundException()\n",
    "\n",
    "        highest_score_index = np.argmax(pred_scores)\n",
    "        \n",
    "        pred_boxes = pred_boxes[highest_score_index]\n",
    "        pred_scores = pred_scores[highest_score_index]\n",
    "        pred_labels = pred_labels[highest_score_index]\n",
    "\n",
    "        bbox = pred_boxes\n",
    "        bbox = pred_boxes = self.expand_bbox(bbox, 1.5)\n",
    "\n",
    "\n",
    "        odometer_image = image.crop(bbox)\n",
    "        odometer_image = odometer_image.convert('RGB')\n",
    "\n",
    "        pred_text = self.ocr_model.predict(odometer_image)\n",
    "\n",
    "        if len(pred_text) == 0:\n",
    "            raise OdometerOCRException()\n",
    "\n",
    "        return pred_boxes, pred_scores, pred_labels, pred_text\n",
    "    "
   ]
  },
  {
   "cell_type": "code",
   "execution_count": 6,
   "metadata": {},
   "outputs": [
    {
     "name": "stdout",
     "output_type": "stream",
     "text": [
      "DEBUG:trainer:Loading FasterRCNNModel\n"
     ]
    },
    {
     "name": "stdout",
     "output_type": "stream",
     "text": [
      "DEBUG:trainer:Loading FasterRCNNModel weights\n",
      "DEBUG:trainer:Successfully loaded FasterRCNNModel weights\n",
      "DEBUG:trainer:Loading Model to device cuda\n",
      "DEBUG:trainer:Successfully loaded FasterRCNNModel\n",
      "DEBUG:trainer:Loading TrOCRModel and transferring to device cuda\n",
      "DEBUG:trainer:Model Weights type: torch.bfloat16\n",
      "DEBUG:trainer:Successfully loaded TrOCRModel\n",
      "DEBUG:trainer:TrOCRModel loaded\n"
     ]
    }
   ],
   "source": [
    "DEVICE = torch.device(\"cuda\" if torch.cuda.is_available() else \"cpu\")\n",
    "NUM_CLASSES = 3\n",
    "HF_MODEL_NAME = Path(\"weights/trocr_v2\")\n",
    "\n",
    "transform = A.Compose([\n",
    "    A.Resize(720, 1280),\n",
    "])\n",
    "\n",
    "inference = Inference(DEVICE)\n",
    "inference.load_detection_model(\"weights/fasterrcnn/fasterrcnn-resnet50.pt\", num_classes=3, transform=transform)\n",
    "inference.load_ocr_model(hf_model_name=HF_MODEL_NAME)\n",
    "\n"
   ]
  },
  {
   "cell_type": "code",
   "execution_count": 7,
   "metadata": {},
   "outputs": [
    {
     "data": {
      "text/plain": [
       "device(type='cuda')"
      ]
     },
     "execution_count": 7,
     "metadata": {},
     "output_type": "execute_result"
    }
   ],
   "source": [
    "DEVICE"
   ]
  },
  {
   "cell_type": "code",
   "execution_count": 8,
   "metadata": {},
   "outputs": [
    {
     "ename": "",
     "evalue": "",
     "output_type": "error",
     "traceback": [
      "\u001b[1;31mThe Kernel crashed while executing code in the the current cell or a previous cell. Please review the code in the cell(s) to identify a possible cause of the failure. Click <a href='https://aka.ms/vscodeJupyterKernelCrash'>here</a> for more info. View Jupyter <a href='command:jupyter.viewOutput'>log</a> for further details."
     ]
    }
   ],
   "source": [
    "# detection_inference = FasterRCNNModel(\"weights/fasterrcnn/fasterrcnn-resnet50.pt\", num_classes=3, device=DEVICE, transform=transform)\n",
    "# _ = detection_inference.load_model()"
   ]
  },
  {
   "cell_type": "code",
   "execution_count": 11,
   "metadata": {},
   "outputs": [
    {
     "name": "stdout",
     "output_type": "stream",
     "text": [
      "ERROR:trainer:No odometer found in image: dataset/test/62a501c62be4ea4a151632ba/scraped_d6IAlx_1654879108492.jpg\n",
      "ERROR:trainer:No odometer found in image: dataset/test/62a501c62be4ea4a151632ba/scraped_MxfSR1_1654879091390.jpg\n",
      "ERROR:trainer:No odometer found in image: dataset/test/62a501c62be4ea4a151632ba/scraped_Sx0moP_1654879193219.jpg\n",
      "ERROR:trainer:Error in OCR for image: dataset/test/62a501c72be4ea4a151632bb/scraped_eHrzy7_1654879440886.jpg\n",
      "ERROR:trainer:No odometer found in image: dataset/test/62a501c72be4ea4a151632bc/scraped_rtq8ze_1654879557517.jpg\n",
      "ERROR:trainer:No odometer found in image: dataset/test/62a501c72be4ea4a151632bc/scraped_6NRkYL_1654879545025.jpg\n"
     ]
    }
   ],
   "source": [
    "# image = Image.open(\"dataset/test/62a501c62be4ea4a151632ba/scraped_XKeC0o_1654878963655.jpg\")\n",
    "# image = Image.open(\"test_images/odometer-reading_1200x1200.webp\")\n",
    "# image = image.resize((1280, 720))\n",
    "\n",
    "TEST_DIR = Path(\"dataset/test\")\n",
    "\n",
    "# inference.predict(image)\n",
    "\n",
    "# image_array = np.array(image)\n",
    "\n",
    "# pred_boxes, pred_scores, pred_labels = detection_inference.predict(image_array, class_num=2, iou_threshold=0.5, score_threshold=0.5)\n",
    "\n",
    "pred_boxes, pred_scores, pred_labels, pred_texts = list(), list(), list(), list()\n",
    "\n",
    "for path in TEST_DIR.glob(\"**/*.jpg\"):\n",
    "    image = Image.open(path)\n",
    "    image = image.resize((1280, 720))\n",
    "    image_array = np.array(image)\n",
    "\n",
    "    try:\n",
    "        pred_box, pred_score, pred_label, pred_text = inference.predict(image, class_num=2, iou_threshold=0.5, score_threshold=0.5)\n",
    "    \n",
    "    except NoOdometerFoundException:\n",
    "        logger.error(\"No odometer found in image: {}\".format(path))\n",
    "\n",
    "    except OdometerOCRException:\n",
    "        logger.error(\"Error in OCR for image: {}\".format(path))\n",
    "\n",
    "    pred_boxes.append(pred_box)\n",
    "    pred_scores.append(pred_score)\n",
    "    pred_labels.append(pred_label)\n",
    "    pred_texts.append(pred_text)\n",
    "\n",
    "# pred_boxes, pred_scores, pred_labels, pred_text = inference.predict(image, class_num=2, iou_threshold=0.5, score_threshold=0.5)"
   ]
  },
  {
   "cell_type": "code",
   "execution_count": 30,
   "metadata": {},
   "outputs": [
    {
     "data": {
      "text/plain": [
       "'09948'"
      ]
     },
     "execution_count": 30,
     "metadata": {},
     "output_type": "execute_result"
    }
   ],
   "source": [
    "pred_text"
   ]
  },
  {
   "cell_type": "code",
   "execution_count": 31,
   "metadata": {},
   "outputs": [
    {
     "ename": "FileNotFoundError",
     "evalue": "[Errno 2] No such file or directory: 'Analog-1000x569.jpg'",
     "output_type": "error",
     "traceback": [
      "\u001b[0;31m---------------------------------------------------------------------------\u001b[0m",
      "\u001b[0;31mFileNotFoundError\u001b[0m                         Traceback (most recent call last)",
      "Cell \u001b[0;32mIn[31], line 1\u001b[0m\n\u001b[0;32m----> 1\u001b[0m image_debug \u001b[38;5;241m=\u001b[39m \u001b[43mImage\u001b[49m\u001b[38;5;241;43m.\u001b[39;49m\u001b[43mopen\u001b[49m\u001b[43m(\u001b[49m\u001b[38;5;124;43m\"\u001b[39;49m\u001b[38;5;124;43mAnalog-1000x569.jpg\u001b[39;49m\u001b[38;5;124;43m\"\u001b[39;49m\u001b[43m)\u001b[49m\n\u001b[1;32m      2\u001b[0m image_debug\u001b[38;5;241m.\u001b[39msize\n",
      "File \u001b[0;32m~/Data/miniconda3/envs/clearquote/lib/python3.9/site-packages/PIL/Image.py:3243\u001b[0m, in \u001b[0;36mopen\u001b[0;34m(fp, mode, formats)\u001b[0m\n\u001b[1;32m   3240\u001b[0m     filename \u001b[38;5;241m=\u001b[39m fp\n\u001b[1;32m   3242\u001b[0m \u001b[38;5;28;01mif\u001b[39;00m filename:\n\u001b[0;32m-> 3243\u001b[0m     fp \u001b[38;5;241m=\u001b[39m \u001b[43mbuiltins\u001b[49m\u001b[38;5;241;43m.\u001b[39;49m\u001b[43mopen\u001b[49m\u001b[43m(\u001b[49m\u001b[43mfilename\u001b[49m\u001b[43m,\u001b[49m\u001b[43m \u001b[49m\u001b[38;5;124;43m\"\u001b[39;49m\u001b[38;5;124;43mrb\u001b[39;49m\u001b[38;5;124;43m\"\u001b[39;49m\u001b[43m)\u001b[49m\n\u001b[1;32m   3244\u001b[0m     exclusive_fp \u001b[38;5;241m=\u001b[39m \u001b[38;5;28;01mTrue\u001b[39;00m\n\u001b[1;32m   3246\u001b[0m \u001b[38;5;28;01mtry\u001b[39;00m:\n",
      "\u001b[0;31mFileNotFoundError\u001b[0m: [Errno 2] No such file or directory: 'Analog-1000x569.jpg'"
     ]
    }
   ],
   "source": [
    "# image_debug = Image.open(\"Analog-1000x569.jpg\")\n",
    "# image_debug.size"
   ]
  },
  {
   "cell_type": "code",
   "execution_count": 32,
   "metadata": {},
   "outputs": [
    {
     "data": {
      "text/plain": [
       "((412.91585540771484,\n",
       "  201.21352767944336,\n",
       "  838.1547031402588,\n",
       "  297.75161838531494),\n",
       " '09948')"
      ]
     },
     "execution_count": 32,
     "metadata": {},
     "output_type": "execute_result"
    }
   ],
   "source": [
    "pred_boxes, pred_text"
   ]
  },
  {
   "cell_type": "code",
   "execution_count": 33,
   "metadata": {},
   "outputs": [],
   "source": [
    "# trocr_inference = TrOCRModel(device=DEVICE, hf_model_name=HF_MODEL_NAME)\n",
    "# _ = trocr_inference.load_model()"
   ]
  },
  {
   "cell_type": "code",
   "execution_count": 39,
   "metadata": {},
   "outputs": [
    {
     "data": {
      "text/plain": [
       "'09948'"
      ]
     },
     "execution_count": 39,
     "metadata": {},
     "output_type": "execute_result"
    }
   ],
   "source": [
    "# image_crop = image.crop(pred_boxes[0])\n",
    "# odometer_image = Image.open(\"dataset/odometer/train/62a4ff852be4ea4a151632a7/scraped_0aNp7U_1654866855596.jpg\")\n",
    "odometer_image = image.crop(pred_boxes)\n",
    "\n",
    "inference.ocr_model.predict(odometer_image)"
   ]
  },
  {
   "cell_type": "code",
   "execution_count": 40,
   "metadata": {},
   "outputs": [
    {
     "data": {
      "image/jpeg": "[encoded data removed]",
      "image/png": "[encoded data removed]",
      "text/plain": [
       "<PIL.Image.Image image mode=RGB size=425x97>"
      ]
     },
     "execution_count": 40,
     "metadata": {},
     "output_type": "execute_result"
    }
   ],
   "source": [
    "odometer_image"
   ]
  },
  {
   "cell_type": "code",
   "execution_count": 36,
   "metadata": {},
   "outputs": [
    {
     "data": {
      "text/plain": [
       "(412.91585540771484, 201.21352767944336, 838.1547031402588, 297.75161838531494)"
      ]
     },
     "execution_count": 36,
     "metadata": {},
     "output_type": "execute_result"
    }
   ],
   "source": [
    "pred_boxes"
   ]
  },
  {
   "cell_type": "code",
   "execution_count": null,
   "metadata": {},
   "outputs": [],
   "source": [
    "image_array = cv2.rectangle(image_array, (int(pred_boxes[0]), int(pred_boxes[1])), (int(pred_boxes[2]), int(pred_boxes[3])), (0, 255, 0), 2)\n",
    "Image.fromarray(image_array)"
   ]
  },
  {
   "cell_type": "code",
   "execution_count": 25,
   "metadata": {},
   "outputs": [
    {
     "data": {
      "image/jpeg": "[encoded data removed]",
      "image/png": "[encoded data removed]",
      "text/plain": [
       "<PIL.Image.Image image mode=RGB size=81x32>"
      ]
     },
     "execution_count": 25,
     "metadata": {},
     "output_type": "execute_result"
    }
   ],
   "source": [
    "odometer_image"
   ]
  },
  {
   "cell_type": "code",
   "execution_count": 26,
   "metadata": {},
   "outputs": [
    {
     "data": {
      "text/plain": [
       "'89739'"
      ]
     },
     "execution_count": 26,
     "metadata": {},
     "output_type": "execute_result"
    }
   ],
   "source": [
    "pred_text"
   ]
  }
 ],
 "metadata": {
  "kernelspec": {
   "display_name": "clearquote",
   "language": "python",
   "name": "python3"
  },
  "language_info": {
   "codemirror_mode": {
    "name": "ipython",
    "version": 3
   },
   "file_extension": ".py",
   "mimetype": "text/x-python",
   "name": "python",
   "nbconvert_exporter": "python",
   "pygments_lexer": "ipython3",
   "version": "3.9.18"
  }
 },
 "nbformat": 4,
 "nbformat_minor": 2
}
